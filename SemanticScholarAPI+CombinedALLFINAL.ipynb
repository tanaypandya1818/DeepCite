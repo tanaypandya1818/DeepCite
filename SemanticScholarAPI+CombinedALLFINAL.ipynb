{
 "cells": [
  {
   "cell_type": "code",
   "execution_count": 20,
   "id": "81ccac9d-b333-4f79-abdd-3a8e48d51343",
   "metadata": {},
   "outputs": [],
   "source": [
    "import requests\n",
    "from sentence_transformers import SentenceTransformer\n",
    "import numpy as np\n",
    "import faiss\n",
    "from rank_bm25 import BM25Okapi"
   ]
  },
  {
   "cell_type": "code",
   "execution_count": null,
   "id": "b14b9cfe-05f0-46c7-876d-9c58b3166125",
   "metadata": {},
   "outputs": [],
   "source": [
    "# Updated API Endpoint for Semantic Scholar\n",
    "SEMANTIC_SCHOLAR_BASE_URL = \"https://api.semanticscholar.org/graph/v1/paper/search/bulk\"\n",
    "HEADERS = {\"User-Agent\": \"DeepCite/1.0\"}\n",
    "\n",
    "# Function to fetch papers from Semantic Scholar API based on a query\n",
    "def fetch_papers_by_keywords(keywords, fields=\"title,abstract,url,year,citationCount,authors\", limit=1000):\n",
    "    papers = []\n",
    "    offset = 0\n",
    "    while len(papers) < limit:\n",
    "        params = {\n",
    "            \"query\": keywords,\n",
    "            \"fields\": fields,\n",
    "            \"limit\": min(limit - len(papers), 100),  # Fetch in batches of 100\n",
    "            \"offset\": offset\n",
    "        }\n",
    "        response = requests.get(SEMANTIC_SCHOLAR_BASE_URL, headers=HEADERS, params=params)\n",
    "        if response.status_code == 200:\n",
    "            data = response.json()\n",
    "            new_papers = data.get(\"data\", [])\n",
    "            papers.extend(new_papers)\n",
    "            offset += 100  # Move the offset to get the next set of papers\n",
    "        else:\n",
    "            print(f\"Failed to fetch data, status code: {response.status_code}\")\n",
    "            break\n",
    "    return papers[:limit]"
   ]
  },
  {
   "cell_type": "code",
   "execution_count": 31,
   "id": "14ae9e6a-5383-4d46-857d-e17173945b1d",
   "metadata": {},
   "outputs": [],
   "source": [
    "# Initialize the SentenceTransformer model\n",
    "model = SentenceTransformer('paraphrase-MiniLM-L6-v2')\n",
    "\n",
    "def get_embeddings(papers):\n",
    "    \"\"\"Generate embeddings for the list of papers using SentenceTransformer.\"\"\"\n",
    "    titles_and_abstracts = []\n",
    "    for paper in papers:\n",
    "        title = paper.get('title', '')  # Default to empty string if title is missing\n",
    "        abstract = paper.get('abstract', '')  # Default to empty string if abstract is missing\n",
    "        title = title if title else ''  # Ensure title is a string\n",
    "        abstract = abstract if abstract else ''  # Ensure abstract is a string\n",
    "        titles_and_abstracts.append(title + \" \" + abstract)\n",
    "    embeddings = model.encode(titles_and_abstracts, convert_to_tensor=True)\n",
    "    return embeddings"
   ]
  },
  {
   "cell_type": "code",
   "execution_count": 32,
   "id": "916e9f71-28dc-4dd3-815f-cd64b2d66f06",
   "metadata": {},
   "outputs": [],
   "source": [
    "# Function to create and store embeddings in FAISS index\n",
    "def create_faiss_index(embeddings):\n",
    "    \"\"\"Create and store embeddings in FAISS index.\"\"\"\n",
    "    # Convert embeddings to a NumPy array for FAISS\n",
    "    embeddings_np = np.array(embeddings.cpu().detach().numpy()).astype('float32')\n",
    "    \n",
    "    # Create the FAISS index (using L2 distance, Euclidean)\n",
    "    index = faiss.IndexFlatL2(embeddings_np.shape[1])\n",
    "    index.add(embeddings_np)  # Add embeddings to the index\n",
    "    return index"
   ]
  },
  {
   "cell_type": "code",
   "execution_count": 33,
   "id": "db6861d4-fa98-489d-945d-8d3dd697acec",
   "metadata": {},
   "outputs": [],
   "source": [
    "def get_bm25_scores(query, papers):\n",
    "    \"\"\"Compute BM25 similarity scores between query and papers.\"\"\"\n",
    "    # Preprocess documents: tokenize title + abstract\n",
    "    tokenized_corpus = [\n",
    "    ((paper.get('title') or '') + ' ' + (paper.get('abstract') or '')).lower().split()\n",
    "    for paper in papers]\n",
    "    bm25 = BM25Okapi(tokenized_corpus)\n",
    "\n",
    "    tokenized_query = query.lower().split()\n",
    "    scores = bm25.get_scores(tokenized_query)\n",
    "    \n",
    "    return scores"
   ]
  },
  {
   "cell_type": "code",
   "execution_count": 34,
   "id": "ab340365-6f2d-4249-a549-16ea8b280482",
   "metadata": {},
   "outputs": [],
   "source": [
    "def search_query(query, faiss_index, papers, top_k=20):\n",
    "    \"\"\"Search query in FAISS index and retrieve semantic + BM25 scores.\"\"\"\n",
    "    # FAISS\n",
    "    query_embedding = model.encode([query], convert_to_tensor=True)\n",
    "    query_embedding_np = np.array(query_embedding.cpu().detach().numpy()).astype('float32')\n",
    "    distances, indices = faiss_index.search(query_embedding_np, top_k)\n",
    "\n",
    "    recommended_papers = [papers[i] for i in indices[0]]\n",
    "    faiss_dists = distances[0]\n",
    "\n",
    "    # BM25\n",
    "    bm25_scores = get_bm25_scores(query, recommended_papers)\n",
    "\n",
    "    return recommended_papers, faiss_dists, bm25_scores"
   ]
  },
  {
   "cell_type": "code",
   "execution_count": 35,
   "id": "1febcc13-8621-4051-8ba0-07e315d09a88",
   "metadata": {},
   "outputs": [],
   "source": [
    "# Function to rank papers by citation count and similarity\n",
    "def rank_by_citations_and_similarity(papers, distances):\n",
    "    \"\"\"Rank papers by citation count and similarity distance.\"\"\"\n",
    "    papers_with_distance = list(zip(papers, distances))\n",
    "    \n",
    "    # Sort by citation count first (descending), then by similarity (ascending)\n",
    "    papers_with_distance.sort(key=lambda x: (-x[0]['citationCount'], x[1]))\n",
    "    \n",
    "    return papers_with_distance"
   ]
  },
  {
   "cell_type": "code",
   "execution_count": 36,
   "id": "a6003738-56e5-4cc4-88f8-a316b70020af",
   "metadata": {},
   "outputs": [],
   "source": [
    "def rank_by_weighted_score_hybrid(papers, faiss_dists, bm25_scores, weights=(0.5, 0.3, 0.2), hybrid_weights=(0.6, 0.4)):\n",
    "    \"\"\"Rank papers with hybrid relevance (FAISS + BM25) and citation/recency.\"\"\"\n",
    "    relevance_weight, citation_weight, recency_weight = weights\n",
    "    w_faiss, w_bm25 = hybrid_weights\n",
    "\n",
    "    # Normalize FAISS distances into similarity\n",
    "    max_dist = max(faiss_dists) + 1e-5\n",
    "    faiss_sims = [1 - (d / max_dist) for d in faiss_dists]\n",
    "\n",
    "    # Normalize BM25 scores\n",
    "    max_bm25 = max(bm25_scores) + 1e-5\n",
    "    bm25_sims = [s / max_bm25 for s in bm25_scores]\n",
    "\n",
    "    # Normalize citation and recency\n",
    "    max_citation = max(p['citationCount'] for p in papers) + 1e-5\n",
    "    max_year = max(p['year'] for p in papers) + 1e-5\n",
    "    min_year = min(p['year'] for p in papers)\n",
    "\n",
    "    ranked = []\n",
    "    for i, paper in enumerate(papers):\n",
    "        combined_relevance = (w_faiss * faiss_sims[i]) + (w_bm25 * bm25_sims[i])\n",
    "        norm_citation = paper['citationCount'] / max_citation\n",
    "        norm_recency = (paper['year'] - min_year) / (max_year - min_year)\n",
    "\n",
    "        final_score = (\n",
    "            relevance_weight * combined_relevance +\n",
    "            citation_weight * norm_citation +\n",
    "            recency_weight * norm_recency\n",
    "        )\n",
    "\n",
    "        ranked.append({\n",
    "            \"Title\": paper['title'],\n",
    "            \"DOI\": paper.get('url', \"N/A\"),\n",
    "            \"Citation Count\": paper['citationCount'],\n",
    "            \"Year\": paper['year'],\n",
    "            \"FAISS Similarity\": round(faiss_sims[i], 4),\n",
    "            \"BM25 Similarity\": round(bm25_sims[i], 4),\n",
    "            \"Combined Relevance\": round(combined_relevance, 4),\n",
    "            \"Final Score\": round(final_score, 4)\n",
    "        })\n",
    "\n",
    "    ranked.sort(key=lambda x: -x['Final Score'])\n",
    "    return ranked"
   ]
  },
  {
   "cell_type": "code",
   "execution_count": 37,
   "id": "936eba9d-4270-4e25-a1f5-036261be52a4",
   "metadata": {},
   "outputs": [],
   "source": [
    "# Main function to fetch, rank, and return relevant papers based on a query\n",
    "def get_ranked_papers(query, weights=(0.5, 0.3, 0.2), hybrid_weights=(0.6, 0.4)):\n",
    "    papers = fetch_papers_by_keywords(query, limit=1000)\n",
    "    if not papers:\n",
    "        return \"No relevant papers found.\"\n",
    "\n",
    "    embeddings = get_embeddings(papers)\n",
    "    faiss_index = create_faiss_index(embeddings)\n",
    "\n",
    "    recommended_papers, faiss_dists, bm25_scores = search_query(query, faiss_index, papers, top_k=20)\n",
    "\n",
    "    ranked_papers = rank_by_weighted_score_hybrid(recommended_papers, faiss_dists, bm25_scores, weights, hybrid_weights)\n",
    "    return ranked_papers"
   ]
  },
  {
   "cell_type": "code",
   "execution_count": 38,
   "id": "c18b154d-8809-4bd1-b03c-3ae57994fad0",
   "metadata": {
    "scrolled": true
   },
   "outputs": [
    {
     "name": "stdout",
     "output_type": "stream",
     "text": [
      "{'Title': 'Supervised machine learning tools: a tutorial for clinicians', 'DOI': 'https://www.semanticscholar.org/paper/64e76a22692fa6f5761a70adbc58f44e9078520e', 'Citation Count': 98, 'Year': 2020, 'FAISS Similarity': np.float32(0.1252), 'BM25 Similarity': np.float64(0.8175), 'Combined Relevance': np.float64(0.4021), 'Final Score': np.float64(0.6122)}\n",
      "{'Title': 'Machine Learning in Healthcare Data Analysis: A Survey', 'DOI': 'https://www.semanticscholar.org/paper/1d8a78f3f740a01905e925aeb7937df010dfa1df', 'Citation Count': 70, 'Year': 2019, 'FAISS Similarity': np.float32(0.3404), 'BM25 Similarity': np.float64(0.7024), 'Combined Relevance': np.float64(0.4852), 'Final Score': np.float64(0.5458)}\n",
      "{'Title': 'APPLICATION OF MACHINE LEARNING IN HEALTHCARE', 'DOI': 'https://www.semanticscholar.org/paper/3561b270bbe783369b25bf048edc739e339340d2', 'Citation Count': 1, 'Year': 2024, 'FAISS Similarity': np.float32(0.5975), 'BM25 Similarity': np.float64(0.7833), 'Combined Relevance': np.float64(0.6718), 'Final Score': np.float64(0.539)}\n",
      "{'Title': 'Artificial Intelligence and Machine Learning in Healthcare', 'DOI': 'https://www.semanticscholar.org/paper/276b72329076a2aedb552f310bb5bbd5168a9a0f', 'Citation Count': 16, 'Year': 2023, 'FAISS Similarity': np.float32(0.3192), 'BM25 Similarity': np.float64(0.7406), 'Combined Relevance': np.float64(0.4877), 'Final Score': np.float64(0.4706)}\n",
      "{'Title': 'Prognosis of Supervised Machine Learning Algorithms in Healthcare Sector', 'DOI': 'https://www.semanticscholar.org/paper/0ae29fc8f0d8cdc4cc8a08d9e7c05286ce1ea09b', 'Citation Count': 4, 'Year': 2021, 'FAISS Similarity': np.float32(0.3638), 'BM25 Similarity': np.float64(1.0), 'Combined Relevance': np.float64(0.6183), 'Final Score': np.float64(0.4547)}\n",
      "{'Title': 'Beyond Supervised Learning for Pervasive Healthcare', 'DOI': 'https://www.semanticscholar.org/paper/4c5bea535b0dca2ba49d3bea58600590e74a4dba', 'Citation Count': 15, 'Year': 2023, 'FAISS Similarity': np.float32(0.0554), 'BM25 Similarity': np.float64(0.9117), 'Combined Relevance': np.float64(0.3979), 'Final Score': np.float64(0.4227)}\n",
      "{'Title': 'Application of Machine Learning in Healthcare: An Analysis', 'DOI': 'https://www.semanticscholar.org/paper/4b4eb05c5ec977105fa95f90cb44baa6a4f7aa60', 'Citation Count': 6, 'Year': 2022, 'FAISS Similarity': np.float32(0.5127), 'BM25 Similarity': np.float64(0.4683), 'Combined Relevance': np.float64(0.4949), 'Final Score': np.float64(0.4214)}\n",
      "{'Title': 'Machine learning applied to healthcare: a conceptual review', 'DOI': 'https://www.semanticscholar.org/paper/40620a51a19bb0cb61a27f920f3f9235c0b44b6b', 'Citation Count': 8, 'Year': 2022, 'FAISS Similarity': np.float32(0.402), 'BM25 Similarity': np.float64(0.4683), 'Combined Relevance': np.float64(0.4285), 'Final Score': np.float64(0.3943)}\n",
      "{'Title': 'Performance Evaluation of Supervised Machine Learning Classifiers for Predicting Healthcare Operational Decisions', 'DOI': 'https://www.semanticscholar.org/paper/a83005b47006420e5b4ba9830d26f1b4d3cc28de', 'Citation Count': 31, 'Year': 2020, 'FAISS Similarity': np.float32(0.0051), 'BM25 Similarity': np.float64(0.8716), 'Combined Relevance': np.float64(0.3517), 'Final Score': np.float64(0.3819)}\n",
      "{'Title': 'Machine Learning with Health Information Technology: Transforming Data-Driven Healthcare Systems', 'DOI': 'https://www.semanticscholar.org/paper/2e81a011f5eb262d1931398417eec36b527f96f8', 'Citation Count': 11, 'Year': 2023, 'FAISS Similarity': np.float32(0.092), 'BM25 Similarity': np.float64(0.6366), 'Combined Relevance': np.float64(0.3099), 'Final Score': np.float64(0.3664)}\n",
      "{'Title': 'M3H: Multimodal Multitask Machine Learning for Healthcare', 'DOI': 'https://www.semanticscholar.org/paper/3dcbec29a8491be77a1d7a2d2ac4c946562112b4', 'Citation Count': 0, 'Year': 2024, 'FAISS Similarity': np.float32(0.0149), 'BM25 Similarity': np.float64(0.7406), 'Combined Relevance': np.float64(0.3052), 'Final Score': np.float64(0.3526)}\n",
      "{'Title': 'Applications of Machine Learning in Healthcare Data Analysis', 'DOI': 'https://www.semanticscholar.org/paper/8c5721c5a7228ae56e40a60c7a8d25ef9268cbe7', 'Citation Count': 1, 'Year': 2020, 'FAISS Similarity': np.float32(0.2995), 'BM25 Similarity': np.float64(0.7024), 'Combined Relevance': np.float64(0.4606), 'Final Score': np.float64(0.3445)}\n",
      "{'Title': 'Comparative Study of Supervised Machine Learning Algorithms for Healthcare Dataset Using Orange', 'DOI': 'https://www.semanticscholar.org/paper/996abea102c25df397c4d9bac111d55a4dca87ba', 'Citation Count': 1, 'Year': 2021, 'FAISS Similarity': np.float32(0.0966), 'BM25 Similarity': np.float64(0.8716), 'Combined Relevance': np.float64(0.4066), 'Final Score': np.float64(0.3397)}\n",
      "{'Title': 'Transforming Healthcare: Harnessing the Power of Machine Learning for Disease Diagnosis and Management', 'DOI': 'https://www.semanticscholar.org/paper/1f28d22ef67d70e1b6ac5ce7bf1b7a36316ec6f8', 'Citation Count': 0, 'Year': 2024, 'FAISS Similarity': np.float32(0.1314), 'BM25 Similarity': np.float64(0.3722), 'Combined Relevance': np.float64(0.2277), 'Final Score': np.float64(0.3139)}\n",
      "{'Title': 'A Study of Differentially Private Machine Learning in Healthcare', 'DOI': 'https://www.semanticscholar.org/paper/0100641a1f24be215b0c821e460f34f47b9c9539', 'Citation Count': 3, 'Year': 2021, 'FAISS Similarity': np.float32(0.1127), 'BM25 Similarity': np.float64(0.6679), 'Combined Relevance': np.float64(0.3348), 'Final Score': np.float64(0.3099)}\n",
      "{'Title': 'Leveraging machine learning and AI in healthcare: A paradigm shifts from the traditional approaches', 'DOI': 'https://www.semanticscholar.org/paper/01461f796f63e0529d294b1e7e8155708e883ecc', 'Citation Count': 0, 'Year': 2023, 'FAISS Similarity': np.float32(0.1846), 'BM25 Similarity': np.float64(0.3575), 'Combined Relevance': np.float64(0.2538), 'Final Score': np.float64(0.3047)}\n",
      "{'Title': 'A Review of Generative Adversarial-Based Networks of Machine Learning/Artificial Intelligence in Healthcare', 'DOI': 'https://www.semanticscholar.org/paper/ad56901e8584b64431a4ec6c187aa8a6e7edcb45', 'Citation Count': 2, 'Year': 2022, 'FAISS Similarity': np.float32(0.0802), 'BM25 Similarity': np.float64(0.3881), 'Combined Relevance': np.float64(0.2034), 'Final Score': np.float64(0.2634)}\n",
      "{'Title': 'Online Machine Learning Algorithms Review and Comparison in Healthcare', 'DOI': 'https://www.semanticscholar.org/paper/30921a80657016ec53f909d93a1e6ca7a08cc43c', 'Citation Count': 2, 'Year': 2018, 'FAISS Similarity': np.float32(0.1029), 'BM25 Similarity': np.float64(0.6679), 'Combined Relevance': np.float64(0.3289), 'Final Score': np.float64(0.2372)}\n",
      "{'Title': 'Advancing Unsupervised and Weakly Supervised Learning with Emphasis on Data-Driven Healthcare', 'DOI': 'https://www.semanticscholar.org/paper/117bd26214c963f33ecb69b6ac7df5bfe6f15a93', 'Citation Count': 1, 'Year': 2019, 'FAISS Similarity': np.float32(0.0), 'BM25 Similarity': np.float64(0.7079), 'Combined Relevance': np.float64(0.2831), 'Final Score': np.float64(0.2335)}\n",
      "{'Title': 'Semi-supervised learning methods for large scale healthcare data analysis', 'DOI': 'https://www.semanticscholar.org/paper/563972ce25ce634c34c55c98f22167c909305440', 'Citation Count': 9, 'Year': 2015, 'FAISS Similarity': np.float32(0.0892), 'BM25 Similarity': np.float64(0.4453), 'Combined Relevance': np.float64(0.2316), 'Final Score': np.float64(0.1434)}\n"
     ]
    }
   ],
   "source": [
    "# Example usage\n",
    "query = \"Supervised Machine Learning in Healthcare\"\n",
    "ranked_papers = get_ranked_papers(query)\n",
    "\n",
    "# Output the ranked papers\n",
    "for paper in ranked_papers:\n",
    "    print(paper)"
   ]
  }
 ],
 "metadata": {
  "kernelspec": {
   "display_name": "Python 3 (ipykernel)",
   "language": "python",
   "name": "python3"
  },
  "language_info": {
   "codemirror_mode": {
    "name": "ipython",
    "version": 3
   },
   "file_extension": ".py",
   "mimetype": "text/x-python",
   "name": "python",
   "nbconvert_exporter": "python",
   "pygments_lexer": "ipython3",
   "version": "3.13.2"
  }
 },
 "nbformat": 4,
 "nbformat_minor": 5
}
