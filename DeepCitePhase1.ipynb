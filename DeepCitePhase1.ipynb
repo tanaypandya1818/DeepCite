{
 "cells": [
  {
   "cell_type": "code",
   "execution_count": 1,
   "id": "806fe528-721b-43cc-a90a-9e24a27cc803",
   "metadata": {},
   "outputs": [
    {
     "name": "stdout",
     "output_type": "stream",
     "text": [
      "Requirement already satisfied: requests in c:\\users\\tanay\\anaconda3\\lib\\site-packages (2.31.0)\n",
      "Requirement already satisfied: pandas in c:\\users\\tanay\\anaconda3\\lib\\site-packages (2.1.4)\n",
      "Requirement already satisfied: tqdm in c:\\users\\tanay\\anaconda3\\lib\\site-packages (4.65.0)\n",
      "Requirement already satisfied: charset-normalizer<4,>=2 in c:\\users\\tanay\\anaconda3\\lib\\site-packages (from requests) (2.0.4)\n",
      "Requirement already satisfied: idna<4,>=2.5 in c:\\users\\tanay\\anaconda3\\lib\\site-packages (from requests) (3.4)\n",
      "Requirement already satisfied: urllib3<3,>=1.21.1 in c:\\users\\tanay\\anaconda3\\lib\\site-packages (from requests) (1.26.18)\n",
      "Requirement already satisfied: certifi>=2017.4.17 in c:\\users\\tanay\\anaconda3\\lib\\site-packages (from requests) (2024.12.14)\n",
      "Requirement already satisfied: numpy<2,>=1.23.2 in c:\\users\\tanay\\anaconda3\\lib\\site-packages (from pandas) (1.24.3)\n",
      "Requirement already satisfied: python-dateutil>=2.8.2 in c:\\users\\tanay\\anaconda3\\lib\\site-packages (from pandas) (2.8.2)\n",
      "Requirement already satisfied: pytz>=2020.1 in c:\\users\\tanay\\anaconda3\\lib\\site-packages (from pandas) (2023.3.post1)\n",
      "Requirement already satisfied: tzdata>=2022.1 in c:\\users\\tanay\\anaconda3\\lib\\site-packages (from pandas) (2023.3)\n",
      "Requirement already satisfied: colorama in c:\\users\\tanay\\anaconda3\\lib\\site-packages (from tqdm) (0.4.6)\n",
      "Requirement already satisfied: six>=1.5 in c:\\users\\tanay\\anaconda3\\lib\\site-packages (from python-dateutil>=2.8.2->pandas) (1.16.0)\n"
     ]
    },
    {
     "name": "stderr",
     "output_type": "stream",
     "text": [
      "WARNING: There was an error checking the latest version of pip.\n"
     ]
    }
   ],
   "source": [
    "!pip install requests pandas tqdm"
   ]
  },
  {
   "cell_type": "code",
   "execution_count": 2,
   "id": "5fe15e55-047d-4792-91b6-8e92353f5765",
   "metadata": {},
   "outputs": [],
   "source": [
    "import requests\n",
    "import json\n",
    "\n",
    "# CrossRef API Endpoint (No API key needed)\n",
    "CROSSREF_BASE_URL = \"https://api.crossref.org/works\"\n",
    "\n",
    "# Semantic Scholar API Endpoint\n",
    "SEMANTIC_SCHOLAR_BASE_URL = \"https://api.semanticscholar.org/graph/v1/paper\"\n",
    "HEADERS = {\"User-Agent\": \"DeepCite/1.0\"}  # Add a user-agent for API requests\n"
   ]
  },
  {
   "cell_type": "code",
   "execution_count": 7,
   "id": "06a912a4-510f-4458-8220-d2b44bf8324e",
   "metadata": {},
   "outputs": [],
   "source": [
    "def fetch_crossref_metadata(title):\n",
    "    \"\"\"Fetch metadata from CrossRef API using the paper title with better filtering.\"\"\"\n",
    "    params = {\"query.title\": title, \"rows\": 5}  # Fetch top 5 matches\n",
    "    response = requests.get(CROSSREF_BASE_URL, params=params, headers=HEADERS)\n",
    "    \n",
    "    if response.status_code == 200:\n",
    "        data = response.json()\n",
    "        if \"message\" in data and \"items\" in data[\"message\"]:\n",
    "            papers = data[\"message\"][\"items\"]\n",
    "            best_match = None\n",
    "\n",
    "            for paper in papers:\n",
    "                paper_title = paper.get(\"title\", [\"Unknown\"])[0]\n",
    "\n",
    "                # Check if the retrieved title closely matches the given title (case insensitive)\n",
    "                if paper_title.lower() == title.lower():\n",
    "                    return {\n",
    "                        \"title\": paper_title,\n",
    "                        \"doi\": paper.get(\"DOI\", \"N/A\"),\n",
    "                        \"citation_count\": paper.get(\"is-referenced-by-count\", 0),\n",
    "                        \"year\": paper.get(\"published-print\", {}).get(\"date-parts\", [[None]])[0][0]\n",
    "                    }\n",
    "\n",
    "                # Store the best match with the highest citation count\n",
    "                if not best_match or paper.get(\"is-referenced-by-count\", 0) > best_match[\"citation_count\"]:\n",
    "                    best_match = {\n",
    "                        \"title\": paper_title,\n",
    "                        \"doi\": paper.get(\"DOI\", \"N/A\"),\n",
    "                        \"citation_count\": paper.get(\"is-referenced-by-count\", 0),\n",
    "                        \"year\": paper.get(\"published-print\", {}).get(\"date-parts\", [[None]])[0][0]\n",
    "                    }\n",
    "\n",
    "            return best_match  # Return the most cited match if no exact title match is found\n",
    "\n",
    "    return None  # No valid paper found"
   ]
  },
  {
   "cell_type": "code",
   "execution_count": 8,
   "id": "c851b488-9a75-4146-859e-8120733815ae",
   "metadata": {},
   "outputs": [
    {
     "name": "stdout",
     "output_type": "stream",
     "text": [
      "{'title': 'Attention Is All You Need In Speech Separation', 'doi': '10.1109/icassp39728.2021.9413901', 'citation_count': 282, 'year': 2021}\n"
     ]
    }
   ],
   "source": [
    "paper_title = \"Attention Is All You Need\"\n",
    "metadata = fetch_crossref_metadata(paper_title)\n",
    "print(metadata)"
   ]
  },
  {
   "cell_type": "code",
   "execution_count": 5,
   "id": "75707ddd-6b45-420e-8ce9-39d6c1b485e9",
   "metadata": {},
   "outputs": [],
   "source": [
    "def fetch_semantic_scholar_data(doi):\n",
    "    \"\"\"Fetch citation metadata from Semantic Scholar using DOI.\"\"\"\n",
    "    url = f\"{SEMANTIC_SCHOLAR_BASE_URL}/{doi}?fields=title,externalIds,citationCount,influentialCitationCount,citations,references\"\n",
    "    response = requests.get(url, headers=HEADERS)\n",
    "\n",
    "    if response.status_code == 200:\n",
    "        data = response.json()\n",
    "        return {\n",
    "            \"title\": data.get(\"title\", \"Unknown\"),\n",
    "            \"citation_count\": data.get(\"citationCount\", 0),\n",
    "            \"influential_citation_count\": data.get(\"influentialCitationCount\", 0),\n",
    "            \"inlinks\": [c.get(\"paperId\") for c in data.get(\"citations\", [])],\n",
    "            \"outlinks\": [r.get(\"paperId\") for r in data.get(\"references\", [])]\n",
    "        }\n",
    "    return None  # No valid data found\n"
   ]
  },
  {
   "cell_type": "code",
   "execution_count": 9,
   "id": "5a96db8e-eea1-4b4f-b919-6f909bb33161",
   "metadata": {},
   "outputs": [],
   "source": [
    "import requests\n",
    "\n",
    "def fetch_semantic_scholar_data(paper_id):\n",
    "    \"\"\"Fetch citation metadata from Semantic Scholar using a DOI.\"\"\"\n",
    "    base_url = f\"https://api.semanticscholar.org/v1/paper/{paper_id}\"\n",
    "    \n",
    "    response = requests.get(base_url)\n",
    "    \n",
    "    if response.status_code == 200:\n",
    "        data = response.json()\n",
    "        \n",
    "        return {\n",
    "            \"title\": data.get(\"title\", \"Unknown\"),\n",
    "            \"doi\": data.get(\"doi\", \"N/A\"),\n",
    "            \"citation_count\": data.get(\"citationCount\", 0),\n",
    "            \"year\": data.get(\"year\", \"Unknown\"),\n",
    "            \"url\": data.get(\"url\", \"N/A\")\n",
    "        }\n",
    "    \n",
    "    else:\n",
    "        print(f\"Error: {response.status_code}, {response.text}\")  # Debugging info\n",
    "        return None\n"
   ]
  },
  {
   "cell_type": "code",
   "execution_count": 11,
   "id": "ddc333ad-bb8f-4f1d-80f8-36cef2679570",
   "metadata": {},
   "outputs": [
    {
     "name": "stdout",
     "output_type": "stream",
     "text": [
      "{'title': 'Attention is All you Need', 'doi': None, 'citation_count': 0, 'year': 2017, 'url': 'https://www.semanticscholar.org/paper/204e3073870fae3d05bcbc2f6a8e263d9b72e776'}\n"
     ]
    }
   ],
   "source": [
    "# doi = \"10.48550/arXiv.1706.03762\"\n",
    "paper_id = \"arXiv:1706.03762\"\n",
    "\n",
    "citation_data = fetch_semantic_scholar_data(paper_id)\n",
    "print(citation_data)"
   ]
  },
  {
   "cell_type": "code",
   "execution_count": null,
   "id": "93855ed7-2bef-4102-8a71-d9eea5c84006",
   "metadata": {},
   "outputs": [],
   "source": []
  },
  {
   "cell_type": "code",
   "execution_count": null,
   "id": "97e697b5-eda9-4347-9d42-6f780ac0b332",
   "metadata": {},
   "outputs": [],
   "source": []
  },
  {
   "cell_type": "code",
   "execution_count": null,
   "id": "53f775ef-dd81-4530-aaef-9497f87b2add",
   "metadata": {},
   "outputs": [],
   "source": [
    "import json\n",
    "\n",
    "def save_to_json(data, filename=\"paper_metadata.json\"):\n",
    "    \"\"\"Save paper metadata to a JSON file.\"\"\"\n",
    "    with open(filename, \"w\") as f:\n",
    "        json.dump(data, f, indent=4)\n",
    "\n",
    "# Example usage\n",
    "save_to_json(metadata, \"crossref_metadata.json\")\n",
    "save_to_json(citation_data, \"semantic_scholar_data.json\")"
   ]
  }
 ],
 "metadata": {
  "kernelspec": {
   "display_name": "Python 3",
   "language": "python",
   "name": "python3"
  },
  "language_info": {
   "codemirror_mode": {
    "name": "ipython",
    "version": 3
   },
   "file_extension": ".py",
   "mimetype": "text/x-python",
   "name": "python",
   "nbconvert_exporter": "python",
   "pygments_lexer": "ipython3",
   "version": "3.13.1"
  }
 },
 "nbformat": 4,
 "nbformat_minor": 5
}
