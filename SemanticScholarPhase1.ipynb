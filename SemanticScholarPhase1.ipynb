{
 "cells": [
  {
   "cell_type": "code",
   "execution_count": null,
   "metadata": {
    "vscode": {
     "languageId": "plaintext"
    }
   },
   "outputs": [],
   "source": [
    "import requests\n",
    "import json\n",
    "\n",
    "# Updated API Endpoint\n",
    "SEMANTIC_SCHOLAR_BASE_URL = \"https://api.semanticscholar.org/graph/v1/paper/search/bulk\"\n",
    "HEADERS = {\"User-Agent\": \"DeepCite/1.0\"}\n",
    "\n",
    "def fetch_papers_by_keywords(keywords, fields=\"title,abstract,url,year,citationCount\", limit=1000):\n",
    "    papers = []\n",
    "    offset = 0\n",
    "    while len(papers) < limit:\n",
    "        params = {\n",
    "            \"query\": keywords,\n",
    "            \"fields\": fields,\n",
    "            \"limit\": min(limit - len(papers), 100),  # Fetch in batches of 100\n",
    "            \"offset\": offset\n",
    "        }\n",
    "        response = requests.get(SEMANTIC_SCHOLAR_BASE_URL, headers=HEADERS, params=params)\n",
    "        if response.status_code == 200:\n",
    "            data = response.json()\n",
    "            new_papers = data.get(\"data\", [])\n",
    "            papers.extend(new_papers)\n",
    "            offset += 100  # Move the offset to get the next set of papers\n",
    "        else:\n",
    "            print(f\"Failed to fetch data, status code: {response.status_code}\")\n",
    "            break\n",
    "    return papers[:limit]\n",
    "\n",
    "def save_papers_to_json(query, filename=\"papers.json\"):\n",
    "    papers = fetch_papers_by_keywords(query)\n",
    "    \n",
    "    if not papers:\n",
    "        print(\"No papers retrieved.\")\n",
    "        return\n",
    "    \n",
    "    # Format data to only include necessary fields\n",
    "    formatted_papers = []\n",
    "    for paper in papers:\n",
    "        formatted_papers.append({\n",
    "            \"title\": paper.get(\"title\", \"No title available\"),\n",
    "            \"abstract\": paper.get(\"abstract\", \"No abstract available\"),\n",
    "            \"year\": paper.get(\"year\", \"Unknown\"),\n",
    "            \"url\": paper.get(\"url\", \"Unknown\"),\n",
    "            \"citation_count\": paper.get(\"citationCount\", 0)\n",
    "        })\n",
    "    \n",
    "    # Save to JSON file\n",
    "    with open(filename, 'w') as f:\n",
    "        json.dump(formatted_papers, f, indent=4)\n",
    "\n",
    "# Example usage\n",
    "query = \"Supervised machine learning use in healthcare\"\n",
    "save_papers_to_json(query, \"top_1000_papers.json\")\n",
    "\n",
    "print(\"Papers saved to top_1000_papers.json\")\n"
   ]
  }
 ],
 "metadata": {
  "language_info": {
   "name": "python"
  }
 },
 "nbformat": 4,
 "nbformat_minor": 2
}
